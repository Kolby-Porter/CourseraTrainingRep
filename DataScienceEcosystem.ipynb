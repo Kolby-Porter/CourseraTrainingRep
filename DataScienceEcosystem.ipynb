{
 "cells": [
  {
   "cell_type": "markdown",
   "id": "f46a57cf",
   "metadata": {},
   "source": [
    "# Data Science Tools and Ecosystem"
   ]
  },
  {
   "cell_type": "markdown",
   "id": "675be419",
   "metadata": {},
   "source": [
    "In this notebook, Data Science Tools and Ecosystem, are summarized. "
   ]
  },
  {
   "cell_type": "markdown",
   "id": "dfe38032",
   "metadata": {},
   "source": [
    "Some of the popular languages that Data Scientists use are:\n",
    "1. R\n",
    "2. Python\n",
    "3. HTML\n",
    "4. Scala\n",
    "5. C++"
   ]
  },
  {
   "cell_type": "markdown",
   "id": "77108009",
   "metadata": {},
   "source": [
    "Some of the commonly used libraries used by Data Scientists include: \n",
    "1. NumPy\n",
    "2. Scikit-learn\n",
    "3. SciPy\n",
    "4. Pandas\n",
    "5. Matplotlib"
   ]
  },
  {
   "cell_type": "markdown",
   "id": "fb53d827",
   "metadata": {},
   "source": [
    "| Data Science Tools |\n",
    "----------------------\n",
    "| VS Studio | \n",
    "| Apache Spark |\n",
    "| Git |"
   ]
  },
  {
   "cell_type": "markdown",
   "id": "68d2c343",
   "metadata": {},
   "source": [
    "Below are a few examples of evaluating arithmetic expressions in Python.\n",
    "\n",
    "2 + 2 \\\n",
    "2 / 2  \\\n",
    "2 ** 2 "
   ]
  },
  {
   "cell_type": "code",
   "execution_count": 12,
   "id": "a8791476",
   "metadata": {},
   "outputs": [
    {
     "data": {
      "text/plain": [
       "17"
      ]
     },
     "execution_count": 12,
     "metadata": {},
     "output_type": "execute_result"
    }
   ],
   "source": [
    "(3*4)+5"
   ]
  },
  {
   "cell_type": "code",
   "execution_count": 13,
   "id": "122610d0",
   "metadata": {},
   "outputs": [
    {
     "name": "stdout",
     "output_type": "stream",
     "text": [
      "3 hours and 20 minutes\n"
     ]
    }
   ],
   "source": [
    "# This will convert 200 minutes to hours to minutes by dividing by 60. \n",
    "\n",
    "hours = 200 // 60\n",
    "minutes = 200 % 60\n",
    "print(f\"{hours} hours and {minutes} minutes\")"
   ]
  },
  {
   "cell_type": "markdown",
   "id": "61e530e2",
   "metadata": {},
   "source": [
    "__Objectives:__\n",
    "+ List popular languges for data science\n",
    "+ List popular tools for data science\n",
    "+ List arethemtic expression for Python"
   ]
  },
  {
   "cell_type": "markdown",
   "id": "770afd0b",
   "metadata": {},
   "source": [
    "## Author:\n",
    "Kolby P "
   ]
  }
 ],
 "metadata": {
  "kernelspec": {
   "display_name": "Python 3",
   "language": "python",
   "name": "python3"
  },
  "language_info": {
   "codemirror_mode": {
    "name": "ipython",
    "version": 3
   },
   "file_extension": ".py",
   "mimetype": "text/x-python",
   "name": "python",
   "nbconvert_exporter": "python",
   "pygments_lexer": "ipython3",
   "version": "3.11.9"
  }
 },
 "nbformat": 4,
 "nbformat_minor": 5
}
